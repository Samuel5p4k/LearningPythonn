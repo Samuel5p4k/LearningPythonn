{
  "cells": [
    {
      "cell_type": "markdown",
      "metadata": {
        "id": "view-in-github",
        "colab_type": "text"
      },
      "source": [
        "<a href=\"https://colab.research.google.com/github/Samuel5p4k/LearningPythonn/blob/main/helloworld.ipynb\" target=\"_parent\"><img src=\"https://colab.research.google.com/assets/colab-badge.svg\" alt=\"Open In Colab\"/></a>"
      ]
    },
    {
      "cell_type": "code",
      "execution_count": null,
      "metadata": {
        "id": "mwi04p0Spy2T",
        "outputId": "e56b6d40-935b-4717-f539-87e33ff4cf01"
      },
      "outputs": [
        {
          "name": "stdout",
          "output_type": "stream",
          "text": [
            "Hello, World!\n"
          ]
        }
      ],
      "source": [
        "#Learning Python Language\n",
        "print(\"Hello, World!\")"
      ]
    },
    {
      "cell_type": "code",
      "execution_count": null,
      "metadata": {
        "id": "0pXLOo6zpy2W",
        "outputId": "91b3fb7f-5964-42f5-d700-cf3e89920e97"
      },
      "outputs": [
        {
          "data": {
            "text/plain": [
              "'exhibit \\n    two '"
            ]
          },
          "execution_count": 5,
          "metadata": {},
          "output_type": "execute_result"
        }
      ],
      "source": [
        "#comments\n",
        "'''Multiple line comments are\n",
        " comments that span multiple line of code\n",
        "they are written by enclosing the comment text in triple\n",
        "single or double quotation marks.'''\n",
        "\n",
        "\"\"\"exhibit\n",
        "    two \"\"\""
      ]
    },
    {
      "cell_type": "markdown",
      "metadata": {
        "id": "VksoWk3fpy2X"
      },
      "source": [
        "Variables"
      ]
    },
    {
      "cell_type": "code",
      "execution_count": null,
      "metadata": {
        "id": "ckOdOd_Lpy2Y",
        "outputId": "c6cd8b24-7d63-4dc3-aaa2-c57836b16f13"
      },
      "outputs": [
        {
          "name": "stdout",
          "output_type": "stream",
          "text": [
            "Samuel Kikule is a CSC Student\n",
            "Merry Christmas!\n"
          ]
        }
      ],
      "source": [
        "#Variables\n",
        "a = \"Samuel\"\n",
        "b = \"Kikule\"\n",
        "c = \"CSC Student\"\n",
        "print(a, b,\"is a\", c)\n",
        "\n",
        "greeting = 'Merry Christmas!'\n",
        "print(greeting)"
      ]
    },
    {
      "cell_type": "code",
      "execution_count": null,
      "metadata": {
        "id": "-zsEeam0py2Z"
      },
      "outputs": [],
      "source": [
        "#variable_Names examples\n",
        "'''\n",
        "name : a string storing a persons name\n",
        "age : a string storing a persons age\n",
        "grades : a list of grades students scored\n",
        "phonebook : a dictionary storing phone number and names\n",
        "number\n",
        "data1\n",
        "data2\n",
        "fname\n",
        "lname\n",
        "stdno\n",
        "stdnum\n",
        "Regno '''\n"
      ]
    },
    {
      "cell_type": "code",
      "execution_count": null,
      "metadata": {
        "id": "Rv0cJ6P3py2a",
        "outputId": "4602ba8c-7484-41f2-e7b1-09810cbee72b"
      },
      "outputs": [
        {
          "name": "stdout",
          "output_type": "stream",
          "text": [
            "2 1\n"
          ]
        }
      ],
      "source": [
        "#Case sensiitivity\n",
        "Name = 1\n",
        "name = 2\n",
        "\n",
        "print(name , Name)"
      ]
    },
    {
      "cell_type": "code",
      "execution_count": null,
      "metadata": {
        "id": "Ht7MNM8Epy2a",
        "outputId": "2e365fd1-3bed-4eb7-f08d-913539532746"
      },
      "outputs": [
        {
          "name": "stdout",
          "output_type": "stream",
          "text": [
            "Samuel 27\n"
          ]
        }
      ],
      "source": [
        "#Creating and assigning variables\n",
        "name = \"Samuel\" #creates a string variable name and assigns it a value Samuel\n",
        "age = 27 #creates a integer variable age and assigns it a value 27\n",
        "print(name, age)"
      ]
    },
    {
      "cell_type": "code",
      "execution_count": null,
      "metadata": {
        "id": "COCxUCShpy2b",
        "outputId": "dedc49d3-97d7-4af0-ff49-7566c360ef35"
      },
      "outputs": [
        {
          "name": "stdout",
          "output_type": "stream",
          "text": [
            "samuel 28\n"
          ]
        }
      ],
      "source": [
        "\n",
        "#assigning multiple varialbles in one line\n",
        "name, age = \"samuel\", 28\n",
        "print(name, age)"
      ]
    },
    {
      "cell_type": "code",
      "execution_count": null,
      "metadata": {
        "id": "5R8TE7ECpy2b",
        "outputId": "12e9a10b-a243-4091-ed73-360a998302b7"
      },
      "outputs": [
        {
          "name": "stdout",
          "output_type": "stream",
          "text": [
            "3\n"
          ]
        },
        {
          "data": {
            "text/plain": [
              "int"
            ]
          },
          "execution_count": 23,
          "metadata": {},
          "output_type": "execute_result"
        }
      ],
      "source": [
        "#Data Types\n",
        "x = 3\n",
        "print(x)\n",
        "type(x)"
      ]
    },
    {
      "cell_type": "code",
      "execution_count": null,
      "metadata": {
        "id": "yCf1Xx6qpy2c",
        "outputId": "8ce81722-70aa-4a98-b56e-a97c9573f354"
      },
      "outputs": [
        {
          "name": "stdout",
          "output_type": "stream",
          "text": [
            "0.256\n"
          ]
        },
        {
          "data": {
            "text/plain": [
              "float"
            ]
          },
          "execution_count": 24,
          "metadata": {},
          "output_type": "execute_result"
        }
      ],
      "source": [
        "a = 0.256\n",
        "print(a)\n",
        "type(a)"
      ]
    },
    {
      "cell_type": "code",
      "execution_count": null,
      "metadata": {
        "id": "YlckMoaqpy2c",
        "outputId": "ba6e649f-7f99-40c9-fea1-a9f2ae1529c4"
      },
      "outputs": [
        {
          "name": "stdout",
          "output_type": "stream",
          "text": [
            "my name\n"
          ]
        },
        {
          "data": {
            "text/plain": [
              "str"
            ]
          },
          "execution_count": 26,
          "metadata": {},
          "output_type": "execute_result"
        }
      ],
      "source": [
        "b = \"my name\"\n",
        "print(b)\n",
        "type(b)"
      ]
    },
    {
      "cell_type": "code",
      "execution_count": null,
      "metadata": {
        "id": "PoxZpUChpy2c",
        "outputId": "75ed96b9-32e3-4a16-cfaa-fc6428e7d27a"
      },
      "outputs": [
        {
          "name": "stdout",
          "output_type": "stream",
          "text": [
            "[2, 9, 1, 5, 6]\n"
          ]
        },
        {
          "data": {
            "text/plain": [
              "list"
            ]
          },
          "execution_count": 28,
          "metadata": {},
          "output_type": "execute_result"
        }
      ],
      "source": [
        "c = [2, 9, 1, 5, 6]\n",
        "print(c)\n",
        "type(c)"
      ]
    },
    {
      "cell_type": "code",
      "execution_count": null,
      "metadata": {
        "id": "IgysidIopy2d",
        "outputId": "993512c1-775c-45cf-96b3-6f1d2980f60e"
      },
      "outputs": [
        {
          "name": "stdout",
          "output_type": "stream",
          "text": [
            "(2, 9, 1, 5, 6)\n"
          ]
        },
        {
          "data": {
            "text/plain": [
              "tuple"
            ]
          },
          "execution_count": 30,
          "metadata": {},
          "output_type": "execute_result"
        }
      ],
      "source": [
        "d = (2, 9, 1, 5, 6)\n",
        "print(d)\n",
        "type(d)"
      ]
    },
    {
      "cell_type": "code",
      "execution_count": null,
      "metadata": {
        "id": "yDiWj2WWpy2d",
        "outputId": "6b3fcd6b-75de-44dc-9a6c-54f7a77697cc"
      },
      "outputs": [
        {
          "name": "stdout",
          "output_type": "stream",
          "text": [
            "{'name': 'Samuel', 'age': 27, 'course': 'CSC'}\n"
          ]
        },
        {
          "data": {
            "text/plain": [
              "dict"
            ]
          },
          "execution_count": 33,
          "metadata": {},
          "output_type": "execute_result"
        }
      ],
      "source": [
        "data = {'name' : \"Samuel\", 'age' : 27, \"course\": \"CSC\" }\n",
        "print(data)\n",
        "type(data)"
      ]
    },
    {
      "cell_type": "code",
      "execution_count": null,
      "metadata": {
        "id": "TUT4n-Zhpy2d",
        "outputId": "bc180d93-c74f-4b92-e71e-ec9eb2d11660"
      },
      "outputs": [
        {
          "name": "stdout",
          "output_type": "stream",
          "text": [
            "{1, 18, 5, 22, 25, 28, 15}\n"
          ]
        }
      ],
      "source": [
        "intern_ages = {18, 25, 28, 22, 1, 5, 15, 5, 5}\n",
        "print(intern_ages)"
      ]
    },
    {
      "cell_type": "code",
      "execution_count": null,
      "metadata": {
        "id": "li5Y5JX3py2d",
        "outputId": "1de20b76-5bcc-49cd-be65-cc7803c0bda5"
      },
      "outputs": [
        {
          "name": "stdout",
          "output_type": "stream",
          "text": [
            "3\n",
            "Sammie\n"
          ]
        },
        {
          "data": {
            "text/plain": [
              "str"
            ]
          },
          "execution_count": 42,
          "metadata": {},
          "output_type": "execute_result"
        }
      ],
      "source": [
        "#Dynamic Type property of Python Language\n",
        "n = 3\n",
        "print(n)\n",
        "type(n)\n",
        "\n",
        "n = \"Sammie\"\n",
        "print(n)\n",
        "type(n)"
      ]
    },
    {
      "cell_type": "code",
      "execution_count": null,
      "metadata": {
        "id": "6P62cNmcpy2e",
        "outputId": "b52cf968-2037-4b57-8fba-ff3f9f1a3521"
      },
      "outputs": [
        {
          "name": "stdout",
          "output_type": "stream",
          "text": [
            "SamuelKikule \n"
          ]
        }
      ],
      "source": [
        "k = \"Kikule\"\n",
        "s = \"Samuel\"\n",
        "print(s + k)"
      ]
    },
    {
      "cell_type": "code",
      "execution_count": null,
      "metadata": {
        "id": "Uxx9ur7upy2e",
        "outputId": "5ec64eee-eebc-4bbc-c3c7-bd1872e5f45c"
      },
      "outputs": [
        {
          "name": "stdout",
          "output_type": "stream",
          "text": [
            "Reinitialized existing Git repository in C:/Users/USER/Documents/Python_Projects/.git/\n"
          ]
        }
      ],
      "source": [
        "!git init"
      ]
    },
    {
      "cell_type": "code",
      "execution_count": null,
      "metadata": {
        "id": "uAjtZYKFpy2e",
        "outputId": "dfba832b-a1fc-46b1-dbed-bf0305d8ff95"
      },
      "outputs": [
        {
          "name": "stderr",
          "output_type": "stream",
          "text": [
            "warning: in the working copy of 'helloworld.ipynb', LF will be replaced by CRLF the next time Git touches it\n"
          ]
        }
      ],
      "source": [
        "!git add ."
      ]
    },
    {
      "cell_type": "code",
      "execution_count": null,
      "metadata": {
        "id": "lyhqnLxNpy2e",
        "outputId": "c2daa9ee-58ca-4564-e023-90a224dc4255"
      },
      "outputs": [
        {
          "name": "stderr",
          "output_type": "stream",
          "text": [
            "Everything up-to-date\n"
          ]
        }
      ],
      "source": [
        "!git push"
      ]
    },
    {
      "cell_type": "markdown",
      "metadata": {
        "id": "DfzZYXgmpy2e"
      },
      "source": [
        "#Exercises"
      ]
    },
    {
      "cell_type": "code",
      "execution_count": null,
      "metadata": {
        "id": "2p1IjzA-py2f"
      },
      "outputs": [],
      "source": [
        "greeting = \"Hello, World!\""
      ]
    },
    {
      "cell_type": "code",
      "execution_count": null,
      "metadata": {
        "id": "i6uXFYE0py2f",
        "outputId": "9f6167a9-fb98-4951-fb53-ce9ce0d52927"
      },
      "outputs": [
        {
          "name": "stdout",
          "output_type": "stream",
          "text": [
            "Samuel Kikule\n"
          ]
        }
      ],
      "source": [
        "first_name = \"Samuel\"\n",
        "last_name = \"Kikule\"\n",
        "fullname = first_name +\" \"+ last_name\n",
        "print(fullname)"
      ]
    },
    {
      "cell_type": "code",
      "execution_count": null,
      "metadata": {
        "id": "oGnReKj5py2f",
        "outputId": "a6818fad-961e-4f1a-989d-56f0c210e69e"
      },
      "outputs": [
        {
          "name": "stdout",
          "output_type": "stream",
          "text": [
            "78.53975\n"
          ]
        }
      ],
      "source": [
        "pi = 3.14159\n",
        "radius = 5\n",
        "area = pi * (radius**2)\n",
        "print(area)"
      ]
    },
    {
      "cell_type": "code",
      "execution_count": null,
      "metadata": {
        "id": "4g3TAV0apy2f"
      },
      "outputs": [],
      "source": [
        "person = {\"name\": \"SamueL\", \"age\": 27}"
      ]
    },
    {
      "cell_type": "code",
      "execution_count": null,
      "metadata": {
        "id": "hgesu3xApy2f",
        "outputId": "65166e7f-0899-494c-ef4f-df5277351f66"
      },
      "outputs": [
        {
          "name": "stdout",
          "output_type": "stream",
          "text": [
            "[1, 2, 300, 3, 4, 5, 6]\n",
            "[1, 2, 300, 3, 4, 5, 6]\n"
          ]
        }
      ],
      "source": [
        "#SHared references\n",
        "L1 = [1, 2, 2, 3, 4, 5, 6]\n",
        "L2 = L1\n",
        "\n",
        "L2[2] = 300\n",
        "print(L1)\n",
        "print(L2)"
      ]
    },
    {
      "cell_type": "code",
      "execution_count": null,
      "metadata": {
        "id": "-qFxrORhpy2f",
        "outputId": "a95f3d15-5e17-4feb-86dc-73ea22012e16"
      },
      "outputs": [
        {
          "name": "stdout",
          "output_type": "stream",
          "text": [
            "True\n",
            "False\n"
          ]
        }
      ],
      "source": [
        "# the 'is' operator returns true of false if two variables share a same reference or not\n",
        "x = 10\n",
        "y = x\n",
        "z = 11\n",
        "\n",
        "print(x is y)\n",
        "print(x is z)"
      ]
    },
    {
      "cell_type": "code",
      "execution_count": null,
      "metadata": {
        "id": "bZV9HeWHpy2g",
        "outputId": "7dcc8d21-f3e2-480f-c646-f3690c7579e8"
      },
      "outputs": [
        {
          "name": "stdout",
          "output_type": "stream",
          "text": [
            "<class 'int'>\n",
            "<class 'str'>\n",
            "<class 'list'>\n"
          ]
        }
      ],
      "source": [
        "#the type() function returns the datatype calss to which the parameter belongs\n",
        "x = 10\n",
        "y = \"Hello\"\n",
        "z = [1, 2, 3]\n",
        "print(type(x))\n",
        "print(type(y))\n",
        "print(type(z))"
      ]
    },
    {
      "cell_type": "code",
      "execution_count": null,
      "metadata": {
        "id": "J2I7tb6vpy2g",
        "outputId": "5cc3ba39-a56a-42f7-b00a-d1e5fecd254b"
      },
      "outputs": [
        {
          "name": "stdout",
          "output_type": "stream",
          "text": [
            "True\n",
            "True\n",
            "True\n"
          ]
        }
      ],
      "source": [
        "#the isinstance(x, type) returns true or false\n",
        "x = 10\n",
        "y = \"Hello\"\n",
        "z = [1, 2, 3]\n",
        "print(isinstance(x, int))\n",
        "print(isinstance(y, str))\n",
        "print(isinstance(z, list))\n"
      ]
    },
    {
      "cell_type": "markdown",
      "metadata": {
        "id": "gg-8JGhnpy2g"
      },
      "source": []
    },
    {
      "cell_type": "code",
      "execution_count": null,
      "metadata": {
        "id": "aIBvx5qApy2g",
        "outputId": "45ca1268-9e89-46a9-95e5-2829b5832fe9"
      },
      "outputs": [
        {
          "name": "stdout",
          "output_type": "stream",
          "text": [
            "True\n",
            "True\n",
            "True\n"
          ]
        }
      ],
      "source": [
        "print(isinstance(x, object))\n",
        "print(isinstance(y, object))\n",
        "print(isinstance(z, object))"
      ]
    },
    {
      "cell_type": "code",
      "execution_count": null,
      "metadata": {
        "id": "WpRwpEaFpy2h",
        "outputId": "43b6f985-c57d-4ccc-e80b-004043696665"
      },
      "outputs": [
        {
          "name": "stdout",
          "output_type": "stream",
          "text": [
            "<class 'int'>\n",
            "<class 'float'>\n",
            "<class 'complex'>\n"
          ]
        }
      ],
      "source": [
        "print(type(43))\n",
        "print(type(3.14))\n",
        "print(type(2+3j))"
      ]
    },
    {
      "cell_type": "code",
      "execution_count": null,
      "metadata": {
        "id": "-V4yV6BWpy2h",
        "outputId": "3e11b15b-cf3d-4a9a-cde0-e187a7867963"
      },
      "outputs": [
        {
          "data": {
            "text/plain": [
              "8.2"
            ]
          },
          "execution_count": 46,
          "metadata": {},
          "output_type": "execute_result"
        }
      ],
      "source": [
        "#Operation on Numbers\n",
        "2 + 3\n",
        "2.0 + 3.1\n",
        "3 + 5.2"
      ]
    },
    {
      "cell_type": "code",
      "execution_count": null,
      "metadata": {
        "id": "7eLRd4LJpy2h",
        "outputId": "701eba51-e84e-48b9-ca02-7c1b0a58b268"
      },
      "outputs": [
        {
          "data": {
            "text/plain": [
              "1.44"
            ]
          },
          "execution_count": 49,
          "metadata": {},
          "output_type": "execute_result"
        }
      ],
      "source": [
        "5 - 9\n",
        "4 - 2.56"
      ]
    },
    {
      "cell_type": "code",
      "execution_count": null,
      "metadata": {
        "id": "IF7jTcxdpy2i",
        "outputId": "6a6a3693-1127-4092-ad96-186a7b4fd8a3"
      },
      "outputs": [
        {
          "data": {
            "text/plain": [
              "234"
            ]
          },
          "execution_count": 50,
          "metadata": {},
          "output_type": "execute_result"
        }
      ],
      "source": [
        "9 * 26"
      ]
    },
    {
      "cell_type": "code",
      "execution_count": null,
      "metadata": {
        "id": "LticJhxspy2i",
        "outputId": "b4111947-46b7-4236-bce4-77490b6458c8"
      },
      "outputs": [
        {
          "data": {
            "text/plain": [
              "3.605551275463989"
            ]
          },
          "execution_count": 51,
          "metadata": {},
          "output_type": "execute_result"
        }
      ],
      "source": [
        "#Built in Numerical tools\n",
        "z = 2 + 3j\n",
        "abs(z)"
      ]
    },
    {
      "cell_type": "code",
      "execution_count": null,
      "metadata": {
        "id": "lltXkRG4py2i",
        "outputId": "8f1c2176-92a5-4a90-9e66-9e009aa6f024"
      },
      "outputs": [
        {
          "data": {
            "text/plain": [
              "3.142"
            ]
          },
          "execution_count": 52,
          "metadata": {},
          "output_type": "execute_result"
        }
      ],
      "source": [
        "x = 3.14159\n",
        "round(x, 3)"
      ]
    },
    {
      "cell_type": "code",
      "execution_count": null,
      "metadata": {
        "id": "k7gCE19jpy2i",
        "outputId": "d496f8d4-9562-43e1-c495-23f0a43bea75"
      },
      "outputs": [
        {
          "data": {
            "text/plain": [
              "0.49999999999999994"
            ]
          },
          "execution_count": 53,
          "metadata": {},
          "output_type": "execute_result"
        }
      ],
      "source": [
        "import math\n",
        "math.sin(math.pi/6)"
      ]
    },
    {
      "cell_type": "code",
      "execution_count": null,
      "metadata": {
        "id": "VqKJySb0py2s",
        "outputId": "46f17e61-0b24-4af7-bad0-674eebcf6fb3"
      },
      "outputs": [
        {
          "data": {
            "text/plain": [
              "42"
            ]
          },
          "execution_count": 64,
          "metadata": {},
          "output_type": "execute_result"
        }
      ],
      "source": [
        "import random\n",
        "random.randint(1,100)"
      ]
    },
    {
      "cell_type": "code",
      "execution_count": null,
      "metadata": {
        "id": "TDbykVWZpy2s",
        "outputId": "487060a4-7825-4693-f79b-d2e26ea55956"
      },
      "outputs": [
        {
          "data": {
            "text/plain": [
              "Decimal('3.1416')"
            ]
          },
          "execution_count": 70,
          "metadata": {},
          "output_type": "execute_result"
        }
      ],
      "source": [
        "from decimal import Decimal\n",
        "Decimal('3.14159')\n",
        "Decimal('3.14159').quantize(Decimal('0.0001'))"
      ]
    },
    {
      "cell_type": "code",
      "execution_count": null,
      "metadata": {
        "id": "7f5amoGjpy2t",
        "outputId": "821e7db4-4791-4cc2-ed8b-589b81788927"
      },
      "outputs": [
        {
          "data": {
            "text/plain": [
              "Fraction(2, 5)"
            ]
          },
          "execution_count": 71,
          "metadata": {},
          "output_type": "execute_result"
        }
      ],
      "source": [
        "from fractions import Fraction\n",
        "Fraction(2, 5)"
      ]
    },
    {
      "cell_type": "code",
      "execution_count": null,
      "metadata": {
        "id": "449bSXCWpy2t",
        "outputId": "76d892ed-7a4a-4b50-a87d-f47758ce50de"
      },
      "outputs": [
        {
          "data": {
            "text/plain": [
              "Fraction(13, 6)"
            ]
          },
          "execution_count": 72,
          "metadata": {},
          "output_type": "execute_result"
        }
      ],
      "source": [
        "Fraction(2,3) + Fraction(3,2)"
      ]
    },
    {
      "cell_type": "code",
      "execution_count": null,
      "metadata": {
        "id": "Glh2qMjkpy2t",
        "outputId": "14525a3d-a07b-4bb5-8e7a-99d354cf7287"
      },
      "outputs": [
        {
          "data": {
            "text/plain": [
              "1j"
            ]
          },
          "execution_count": 75,
          "metadata": {},
          "output_type": "execute_result"
        }
      ],
      "source": [
        "cmath.sqrt(-1)"
      ]
    },
    {
      "cell_type": "code",
      "execution_count": null,
      "metadata": {
        "id": "-cQuvHRhpy2t"
      },
      "outputs": [],
      "source": [
        "#Formating the display of numbers, using string formating\n",
        "#Controlling the number of digits/ allignment/ the sign/grouping etc"
      ]
    },
    {
      "cell_type": "code",
      "execution_count": null,
      "metadata": {
        "id": "-QR5-Vuipy2t",
        "outputId": "56c581f2-a670-48d3-d063-f5be47ee502d"
      },
      "outputs": [
        {
          "name": "stdout",
          "output_type": "stream",
          "text": [
            "Reinitialized existing Git repository in C:/Users/USER/Documents/Python_Projects/.git/\n"
          ]
        }
      ],
      "source": [
        "!git init"
      ]
    },
    {
      "cell_type": "code",
      "execution_count": null,
      "metadata": {
        "id": "2O1a_MySpy2u",
        "outputId": "56e1287b-f3af-426c-9925-26dc1730f066"
      },
      "outputs": [
        {
          "name": "stderr",
          "output_type": "stream",
          "text": [
            "warning: in the working copy of 'helloworld.ipynb', LF will be replaced by CRLF the next time Git touches it\n"
          ]
        }
      ],
      "source": [
        "!git add ."
      ]
    },
    {
      "cell_type": "code",
      "execution_count": null,
      "metadata": {
        "id": "6fmtUv3Gpy2u",
        "outputId": "4be0efc3-6494-4c96-a46c-9cf41d8b5b69"
      },
      "outputs": [
        {
          "name": "stderr",
          "output_type": "stream",
          "text": [
            "Author identity unknown\n",
            "\n",
            "*** Please tell me who you are.\n",
            "\n",
            "Run\n",
            "\n",
            "  git config --global user.email \"you@example.com\"\n",
            "  git config --global user.name \"Your Name\"\n",
            "\n",
            "to set your account's default identity.\n",
            "Omit --global to set the identity only in this repository.\n",
            "\n",
            "fatal: unable to auto-detect email address (got 'USER@SPAK.(none)')\n"
          ]
        }
      ],
      "source": [
        "!git commit -m \"variables and data types, some functions\""
      ]
    },
    {
      "cell_type": "code",
      "execution_count": null,
      "metadata": {
        "id": "slauNVSkpy2u"
      },
      "outputs": [],
      "source": [
        "#Numeric Display Formats"
      ]
    },
    {
      "cell_type": "code",
      "execution_count": null,
      "metadata": {
        "colab": {
          "base_uri": "https://localhost:8080/"
        },
        "id": "4berY9akpy2u",
        "outputId": "5f7fb5a5-f519-43a0-8c60-aa341845037f"
      },
      "outputs": [
        {
          "output_type": "stream",
          "name": "stdout",
          "text": [
            "2.32\n"
          ]
        }
      ],
      "source": [
        "x = 2.32132\n",
        "print(\"%.2f\" %x)"
      ]
    },
    {
      "cell_type": "code",
      "source": [
        "x = 2.32132\n",
        "print(\"%08.2f\" %x)"
      ],
      "metadata": {
        "colab": {
          "base_uri": "https://localhost:8080/"
        },
        "id": "hVS6v2ynq1VX",
        "outputId": "76d900ee-ebe6-40d2-c868-7a5500272bc6"
      },
      "execution_count": null,
      "outputs": [
        {
          "output_type": "stream",
          "name": "stdout",
          "text": [
            "00002.32\n"
          ]
        }
      ]
    },
    {
      "cell_type": "code",
      "source": [
        "n = 12121212333\n",
        "print(format(n,\",\"))"
      ],
      "metadata": {
        "colab": {
          "base_uri": "https://localhost:8080/"
        },
        "id": "OIL7lj3nrVZ0",
        "outputId": "12682c74-e74d-44d9-d7c4-22a2acfbf3e2"
      },
      "execution_count": null,
      "outputs": [
        {
          "output_type": "stream",
          "name": "stdout",
          "text": [
            "12,121,212,333\n"
          ]
        }
      ]
    },
    {
      "cell_type": "markdown",
      "source": [
        "Comparison Operators."
      ],
      "metadata": {
        "id": "enqnQDqYrsl5"
      }
    },
    {
      "cell_type": "code",
      "source": [
        "# ==, !=, >, <, >=, <=,"
      ],
      "metadata": {
        "id": "hLm58BzsrwxV"
      },
      "execution_count": null,
      "outputs": []
    },
    {
      "cell_type": "code",
      "source": [
        "#Division operators:\n",
        "\"\"\"/ - true division, returns float\n",
        "// - floor division, returns an integer\n",
        "% - modulo division, returns the remainder of the division of the operands\"\"\""
      ],
      "metadata": {
        "id": "qG26t-u_B_bq"
      },
      "execution_count": null,
      "outputs": []
    },
    {
      "cell_type": "code",
      "source": [
        "#Combining of operators\n",
        "\n",
        "x = 15\n",
        "x /= 4\n",
        "x"
      ],
      "metadata": {
        "colab": {
          "base_uri": "https://localhost:8080/"
        },
        "id": "87g-vVVuDoGt",
        "outputId": "a6c57566-a01d-43a6-d756-5ae222478d31"
      },
      "execution_count": null,
      "outputs": [
        {
          "output_type": "execute_result",
          "data": {
            "text/plain": [
              "3.75"
            ]
          },
          "metadata": {},
          "execution_count": 1
        }
      ]
    },
    {
      "cell_type": "code",
      "source": [
        "x = 15\n",
        "x //= 4\n",
        "x"
      ],
      "metadata": {
        "colab": {
          "base_uri": "https://localhost:8080/"
        },
        "id": "ggWbD9F4FH2t",
        "outputId": "b30ad049-1320-41ba-ceeb-2e605a2b614d"
      },
      "execution_count": null,
      "outputs": [
        {
          "output_type": "execute_result",
          "data": {
            "text/plain": [
              "3"
            ]
          },
          "metadata": {},
          "execution_count": 2
        }
      ]
    },
    {
      "cell_type": "code",
      "source": [
        "x = 15\n",
        "x %= 4\n",
        "x"
      ],
      "metadata": {
        "colab": {
          "base_uri": "https://localhost:8080/"
        },
        "id": "QV5dYVoTFW44",
        "outputId": "54438ad2-9314-4103-db61-3410623a76b7"
      },
      "execution_count": null,
      "outputs": [
        {
          "output_type": "execute_result",
          "data": {
            "text/plain": [
              "3"
            ]
          },
          "metadata": {},
          "execution_count": 3
        }
      ]
    },
    {
      "cell_type": "code",
      "source": [
        "#Integer Precision\n",
        "import math\n",
        "math.factorial(1000)"
      ],
      "metadata": {
        "colab": {
          "base_uri": "https://localhost:8080/"
        },
        "id": "enm7QgqZFxPL",
        "outputId": "965448f3-1c07-48d2-9c0a-96afc4a4171e"
      },
      "execution_count": null,
      "outputs": [
        {
          "output_type": "execute_result",
          "data": {
            "text/plain": [
              "402387260077093773543702433923003985719374864210714632543799910429938512398629020592044208486969404800479988610197196058631666872994808558901323829669944590997424504087073759918823627727188732519779505950995276120874975462497043601418278094646496291056393887437886487337119181045825783647849977012476632889835955735432513185323958463075557409114262417474349347553428646576611667797396668820291207379143853719588249808126867838374559731746136085379534524221586593201928090878297308431392844403281231558611036976801357304216168747609675871348312025478589320767169132448426236131412508780208000261683151027341827977704784635868170164365024153691398281264810213092761244896359928705114964975419909342221566832572080821333186116811553615836546984046708975602900950537616475847728421889679646244945160765353408198901385442487984959953319101723355556602139450399736280750137837615307127761926849034352625200015888535147331611702103968175921510907788019393178114194545257223865541461062892187960223838971476088506276862967146674697562911234082439208160153780889893964518263243671616762179168909779911903754031274622289988005195444414282012187361745992642956581746628302955570299024324153181617210465832036786906117260158783520751516284225540265170483304226143974286933061690897968482590125458327168226458066526769958652682272807075781391858178889652208164348344825993266043367660176999612831860788386150279465955131156552036093988180612138558600301435694527224206344631797460594682573103790084024432438465657245014402821885252470935190620929023136493273497565513958720559654228749774011413346962715422845862377387538230483865688976461927383814900140767310446640259899490222221765904339901886018566526485061799702356193897017860040811889729918311021171229845901641921068884387121855646124960798722908519296819372388642614839657382291123125024186649353143970137428531926649875337218940694281434118520158014123344828015051399694290153483077644569099073152433278288269864602789864321139083506217095002597389863554277196742822248757586765752344220207573630569498825087968928162753848863396909959826280956121450994871701244516461260379029309120889086942028510640182154399457156805941872748998094254742173582401063677404595741785160829230135358081840096996372524230560855903700624271243416909004153690105933983835777939410970027753472000000000000000000000000000000000000000000000000000000000000000000000000000000000000000000000000000000000000000000000000000000000000000000000000000000000000000000000000000000000000000000000000000000000000000000000000000000000000000000000000000000000"
            ]
          },
          "metadata": {},
          "execution_count": 4
        }
      ]
    },
    {
      "cell_type": "code",
      "source": [
        "#Converting between float and"
      ],
      "metadata": {
        "id": "qDFezj3ZF6gz"
      },
      "execution_count": null,
      "outputs": []
    },
    {
      "cell_type": "code",
      "source": [
        "x = 4569\n",
        "y = float(x)\n",
        "y"
      ],
      "metadata": {
        "id": "isgxp3ilHbCC",
        "colab": {
          "base_uri": "https://localhost:8080/"
        },
        "outputId": "dcb92aa5-b8e2-464f-8d28-727254d9cf2d"
      },
      "execution_count": 1,
      "outputs": [
        {
          "output_type": "execute_result",
          "data": {
            "text/plain": [
              "4569.0"
            ]
          },
          "metadata": {},
          "execution_count": 1
        }
      ]
    },
    {
      "cell_type": "code",
      "source": [
        "pi = 3.1456846\n",
        "int_pi = int(pi)\n",
        "int_pi"
      ],
      "metadata": {
        "id": "HlPlwjRMIRxE",
        "colab": {
          "base_uri": "https://localhost:8080/"
        },
        "outputId": "4f5202da-f2fe-4981-e9e8-22d62a0aeb15"
      },
      "execution_count": 2,
      "outputs": [
        {
          "output_type": "execute_result",
          "data": {
            "text/plain": [
              "3"
            ]
          },
          "metadata": {},
          "execution_count": 2
        }
      ]
    },
    {
      "cell_type": "code",
      "source": [
        "!git config --global init.defaultBranch main"
      ],
      "metadata": {
        "id": "E7RDt3_PctzQ"
      },
      "execution_count": 4,
      "outputs": []
    },
    {
      "cell_type": "code",
      "source": [
        "!git init"
      ],
      "metadata": {
        "colab": {
          "base_uri": "https://localhost:8080/"
        },
        "id": "EiBhn0PDdWoX",
        "outputId": "98ba8718-24e2-4e81-88f7-a2b02762d5dd"
      },
      "execution_count": 5,
      "outputs": [
        {
          "output_type": "stream",
          "name": "stdout",
          "text": [
            "Reinitialized existing Git repository in /content/.git/\n"
          ]
        }
      ]
    },
    {
      "cell_type": "code",
      "source": [
        "git add"
      ],
      "metadata": {
        "id": "NDcxWesjddFP"
      },
      "execution_count": null,
      "outputs": []
    }
  ],
  "metadata": {
    "kernelspec": {
      "display_name": "Python 3",
      "language": "python",
      "name": "python3"
    },
    "language_info": {
      "codemirror_mode": {
        "name": "ipython",
        "version": 3
      },
      "file_extension": ".py",
      "mimetype": "text/x-python",
      "name": "python",
      "nbconvert_exporter": "python",
      "pygments_lexer": "ipython3",
      "version": "3.12.2"
    },
    "colab": {
      "provenance": [],
      "include_colab_link": true
    }
  },
  "nbformat": 4,
  "nbformat_minor": 0
}